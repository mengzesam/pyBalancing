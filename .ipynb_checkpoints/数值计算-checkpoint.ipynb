{
 "cells": [
  {
   "cell_type": "code",
   "execution_count": 40,
   "metadata": {},
   "outputs": [
    {
     "name": "stdout",
     "output_type": "stream",
     "text": [
      "xk1=2.0:fx=4.0\n",
      "iterate number:1\n",
      "x= 2.0\n"
     ]
    }
   ],
   "source": [
    "%matplotlib inline\n",
    "import numpy as np\n",
    "import scipy \n",
    "import pandas\n",
    "import matplotlib.pyplot as plt\n",
    "\n",
    "#牛顿迭代法求解开n次方\n",
    "\n",
    "def nthroot(n,a):  #\n",
    "    err=1e-10\n",
    "    if n<1 and n%2==0 and a<0:return False\n",
    "    xk=a/n\n",
    "    xk1=xk*(1-1/n)+a/(n*(xk**(n-1)))\n",
    "    print('xk1={}:fx={}'.format(xk1,xk1**n))\n",
    "    i=1\n",
    "    while(abs(xk1-xk)>err and i<100):\n",
    "        xk=xk1\n",
    "        xk1=xk*(1-1/n)+a/(n*(xk**(n-1)))\n",
    "        i=i+1\n",
    "        print('xk1={}:fx={}'.format(xk1,xk1**n))\n",
    "    print('iterate number:{}'.format(i))\n",
    "    return xk1\n",
    "\n",
    "n=2\n",
    "a=4\n",
    "print('x=',nthroot(n,a))"
   ]
  },
  {
   "cell_type": "code",
   "execution_count": 2,
   "metadata": {},
   "outputs": [
    {
     "data": {
      "text/plain": [
       "[<matplotlib.lines.Line2D at 0x11a13410>]"
      ]
     },
     "execution_count": 2,
     "metadata": {},
     "output_type": "execute_result"
    },
    {
     "data": {
      "image/png": "[encoded data removed]",
      "text/plain": [
       "<Figure size 460.8x460.8 with 1 Axes>"
      ]
     },
     "metadata": {},
     "output_type": "display_data"
    }
   ],
   "source": [
    "%matplotlib inline\n",
    "import numpy as np\n",
    "import scipy \n",
    "import pandas\n",
    "import matplotlib.pyplot as plt\n",
    "width=10\n",
    "fig,ax=plt.subplots(figsize=(6.4,6.4))\n",
    "ax.axis([-width,width,-width,width])\n",
    "#ax.axis('equal')\n",
    "ax.set_xticks([])\n",
    "ax.set_yticks([])\n",
    "for sp in ['left','top','right','bottom']:\n",
    "    ax.spines[sp].set_visible(True)    \n",
    "ax.scatter(0,0)\n",
    "r=width*0.7\n",
    "dotnum=201\n",
    "t=np.linspace(0,2*np.pi,dotnum)\n",
    "x=r*np.cos(t)\n",
    "y=r*np.sin(t)\n",
    "ax.plot(x,y)\n",
    "beta=30\n",
    "c=1.3\n",
    "t=np.linspace(np.pi/2-beta/360*np.pi,np.pi/2+beta/360*np.pi,dotnum)\n",
    "x=c*r*np.cos(t)\n",
    "y=c*r*np.sin(t)\n",
    "ax.plot(x,y)"
   ]
  },
  {
   "cell_type": "code",
   "execution_count": null,
   "metadata": {},
   "outputs": [],
   "source": []
  }
 ],
 "metadata": {
  "kernelspec": {
   "display_name": "Python 3",
   "language": "python",
   "name": "python3"
  },
  "language_info": {
   "codemirror_mode": {
    "name": "ipython",
    "version": 3
   },
   "file_extension": ".py",
   "mimetype": "text/x-python",
   "name": "python",
   "nbconvert_exporter": "python",
   "pygments_lexer": "ipython3",
   "version": "3.7.0"
  },
  "toc": {
   "base_numbering": 1,
   "nav_menu": {},
   "number_sections": true,
   "sideBar": true,
   "skip_h1_title": false,
   "title_cell": "Table of Contents",
   "title_sidebar": "Contents",
   "toc_cell": false,
   "toc_position": {},
   "toc_section_display": true,
   "toc_window_display": false
  }
 },
 "nbformat": 4,
 "nbformat_minor": 2
}
